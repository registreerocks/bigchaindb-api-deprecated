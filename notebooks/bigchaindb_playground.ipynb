{
 "cells": [
  {
   "cell_type": "code",
   "execution_count": 1,
   "metadata": {},
   "outputs": [],
   "source": [
    "from bigchaindb_driver import BigchainDB\n",
    "from bigchaindb_driver.crypto import generate_keypair"
   ]
  },
  {
   "cell_type": "code",
   "execution_count": 2,
   "metadata": {},
   "outputs": [],
   "source": [
    "BDB_ROOT_URL = 'http://localhost:9984'\n",
    "BDB = BigchainDB(BDB_ROOT_URL)"
   ]
  },
  {
   "cell_type": "code",
   "execution_count": 3,
   "metadata": {},
   "outputs": [],
   "source": [
    "uct = generate_keypair()"
   ]
  },
  {
   "cell_type": "code",
   "execution_count": 4,
   "metadata": {},
   "outputs": [],
   "source": [
    "def create_course(data, metadata, admin):\n",
    "    check_course_data(data)\n",
    "    check_course_metadata(metadata)\n",
    "    transaction_id = process_creation(data, metadata, admin)\n",
    "    return transaction_id\n",
    "    \n",
    "def process_creation(data, metadata, user):\n",
    "    transaction = prepare_create_transaction(data, metadata, user.public_key)\n",
    "    signed_transaction = fulfill_transaction(transaction, user.private_key)\n",
    "    receipt = send_transaction(signed_transaction)\n",
    "    if signed_transaction == receipt:\n",
    "        return receipt.get('id')\n",
    "    \n",
    "def check_course_data(data):\n",
    "    return True\n",
    "\n",
    "def check_course_metadata(metadata):\n",
    "    return True\n",
    "\n",
    "def prepare_create_transaction(data, metadata, key):\n",
    "    prepared_creation_tx = BDB.transactions.prepare(\n",
    "        operation='CREATE',\n",
    "        signers=key,\n",
    "        asset=data,\n",
    "        metadata=metadata,\n",
    "    )\n",
    "    return prepared_creation_tx\n",
    "\n",
    "def fulfill_transaction(transaction, key):\n",
    "    return BDB.transactions.fulfill(transaction, private_keys=key)\n",
    "\n",
    "def send_transaction(transaction):\n",
    "    return BDB.transactions.send_commit(transaction)"
   ]
  },
  {
   "cell_type": "code",
   "execution_count": 5,
   "metadata": {},
   "outputs": [],
   "source": [
    "course = {\n",
    "    'data': {\n",
    "        'course': {\n",
    "            'name': 'Econometrics',\n",
    "            'description': 'This course is an introductory course in Econometrics',\n",
    "            'id': 'Econ104'\n",
    "        }\n",
    "    }\n",
    "}\n",
    "metadata = {\n",
    "    'passing': 60,\n",
    "    'distinction': 90\n",
    "}"
   ]
  },
  {
   "cell_type": "code",
   "execution_count": 6,
   "metadata": {},
   "outputs": [],
   "source": [
    "econometrics_id = create_course(course, metadata, uct)"
   ]
  },
  {
   "cell_type": "code",
   "execution_count": 7,
   "metadata": {},
   "outputs": [
    {
     "data": {
      "text/plain": [
       "[{'data': {'course': {'name': 'Econometrics',\n",
       "    'description': 'This course is an introductory course in Econometrics',\n",
       "    'id': 'Econ104'}},\n",
       "  'id': '5b05d72df95e4d22fc5856a039cd7d353b7b78c95428f5a448707ade102b17f3'}]"
      ]
     },
     "execution_count": 7,
     "metadata": {},
     "output_type": "execute_result"
    }
   ],
   "source": [
    "BDB.assets.get(search='course')"
   ]
  },
  {
   "cell_type": "code",
   "execution_count": 8,
   "metadata": {},
   "outputs": [],
   "source": [
    "course = {\n",
    "    'data': {\n",
    "        'course': {\n",
    "            'name': 'Statistics',\n",
    "            'description': 'This course is an introductory course in Statistics',\n",
    "            'id': 'Econ105'\n",
    "        }\n",
    "    }\n",
    "}\n",
    "\n",
    "metadata = {\n",
    "    'passing': 60,\n",
    "    'distinction': 90\n",
    "}"
   ]
  },
  {
   "cell_type": "code",
   "execution_count": 9,
   "metadata": {},
   "outputs": [],
   "source": [
    "statistics_id = create_course(course, metadata, uct)"
   ]
  },
  {
   "cell_type": "code",
   "execution_count": 10,
   "metadata": {},
   "outputs": [
    {
     "data": {
      "text/plain": [
       "[{'data': {'course': {'name': 'Econometrics',\n",
       "    'description': 'This course is an introductory course in Econometrics',\n",
       "    'id': 'Econ104'}},\n",
       "  'id': '5b05d72df95e4d22fc5856a039cd7d353b7b78c95428f5a448707ade102b17f3'},\n",
       " {'data': {'course': {'name': 'Statistics',\n",
       "    'description': 'This course is an introductory course in Statistics',\n",
       "    'id': 'Econ105'}},\n",
       "  'id': '741474fddb21e5edec479306b81001d7f20188042fe01fcbc416faa604eaee44'}]"
      ]
     },
     "execution_count": 10,
     "metadata": {},
     "output_type": "execute_result"
    }
   ],
   "source": [
    "BDB.assets.get(search='course')"
   ]
  },
  {
   "cell_type": "code",
   "execution_count": 11,
   "metadata": {},
   "outputs": [
    {
     "data": {
      "text/plain": [
       "[{'inputs': [{'owners_before': ['BNXiUjkhBvgZP52dcCJThLmWYzmNRY1RAemSvVs9qLuq'],\n",
       "    'fulfills': None,\n",
       "    'fulfillment': 'pGSAIJoYy8UQFqKAnSMIwrBbtPjeRPK0G1LOF188Et6AP1dkgUBTjMPwmeEczuKZLVa4URIqYCAfmBPyNTChEz-0gOjm60X-3XQJBuNa6TiO9rYKoOZ8RnT1DlqEXwZlBnIDYrkL'}],\n",
       "  'outputs': [{'public_keys': ['BNXiUjkhBvgZP52dcCJThLmWYzmNRY1RAemSvVs9qLuq'],\n",
       "    'condition': {'details': {'type': 'ed25519-sha-256',\n",
       "      'public_key': 'BNXiUjkhBvgZP52dcCJThLmWYzmNRY1RAemSvVs9qLuq'},\n",
       "     'uri': 'ni:///sha-256;oItNXLeUuLpuje4csrpq-T67csHNOx9GSMB7H5aDAAs?fpt=ed25519-sha-256&cost=131072'},\n",
       "    'amount': '1'}],\n",
       "  'operation': 'CREATE',\n",
       "  'metadata': {'passing': 60, 'distinction': 90},\n",
       "  'asset': {'data': {'course': {'name': 'Econometrics',\n",
       "     'description': 'This course is an introductory course in Econometrics',\n",
       "     'id': 'Econ104'}}},\n",
       "  'version': '2.0',\n",
       "  'id': '5b05d72df95e4d22fc5856a039cd7d353b7b78c95428f5a448707ade102b17f3'}]"
      ]
     },
     "execution_count": 11,
     "metadata": {},
     "output_type": "execute_result"
    }
   ],
   "source": [
    "BDB.transactions.get(asset_id=econometrics_id)"
   ]
  },
  {
   "cell_type": "code",
   "execution_count": 12,
   "metadata": {},
   "outputs": [],
   "source": [
    "def create_degree(data, metadata, admin):\n",
    "    check_degree_data(data)\n",
    "    check_degree_metadata(metadata)\n",
    "    transaction_id = process_creation(data, metadata, admin)\n",
    "    return transaction_id\n",
    "    \n",
    "def check_degree_data(data):\n",
    "    return True\n",
    "\n",
    "def check_degree_metadata(metadata):\n",
    "    return True"
   ]
  },
  {
   "cell_type": "code",
   "execution_count": 13,
   "metadata": {},
   "outputs": [],
   "source": [
    "degree = {\n",
    "    'data': {\n",
    "        'degree': {\n",
    "            'name': 'Financial Technology',\n",
    "            'level': 'Master',\n",
    "            'description': 'Masters degree in fintech',\n",
    "            'id': 'MFinTech'\n",
    "        }\n",
    "    }\n",
    "}\n",
    "\n",
    "metadata = {\n",
    "    'courses': []\n",
    "}"
   ]
  },
  {
   "cell_type": "code",
   "execution_count": 14,
   "metadata": {},
   "outputs": [],
   "source": [
    "fintech_id = create_degree(degree, metadata, uct)"
   ]
  },
  {
   "cell_type": "code",
   "execution_count": 15,
   "metadata": {},
   "outputs": [
    {
     "data": {
      "text/plain": [
       "[{'data': {'degree': {'name': 'Financial Technology',\n",
       "    'level': 'Master',\n",
       "    'description': 'Masters degree in fintech',\n",
       "    'id': 'MFinTech'}},\n",
       "  'id': 'baa3940690f1f7f6cba3242c33034865e6a9d56caf81c8bf1966869ca4eb7a06'}]"
      ]
     },
     "execution_count": 15,
     "metadata": {},
     "output_type": "execute_result"
    }
   ],
   "source": [
    "BDB.assets.get(search='degree')"
   ]
  },
  {
   "cell_type": "code",
   "execution_count": 16,
   "metadata": {},
   "outputs": [
    {
     "data": {
      "text/plain": [
       "[{'inputs': [{'owners_before': ['BNXiUjkhBvgZP52dcCJThLmWYzmNRY1RAemSvVs9qLuq'],\n",
       "    'fulfills': None,\n",
       "    'fulfillment': 'pGSAIJoYy8UQFqKAnSMIwrBbtPjeRPK0G1LOF188Et6AP1dkgUAPNXtg-9LqaCiUZzqP2e1v4NYcRJqPJQMqleBOXvmAn4qYem9bNUAMH2vNiHoW9NltzqRF_GtOKrA21o1bjPYA'}],\n",
       "  'outputs': [{'public_keys': ['BNXiUjkhBvgZP52dcCJThLmWYzmNRY1RAemSvVs9qLuq'],\n",
       "    'condition': {'details': {'type': 'ed25519-sha-256',\n",
       "      'public_key': 'BNXiUjkhBvgZP52dcCJThLmWYzmNRY1RAemSvVs9qLuq'},\n",
       "     'uri': 'ni:///sha-256;oItNXLeUuLpuje4csrpq-T67csHNOx9GSMB7H5aDAAs?fpt=ed25519-sha-256&cost=131072'},\n",
       "    'amount': '1'}],\n",
       "  'operation': 'CREATE',\n",
       "  'metadata': {'courses': []},\n",
       "  'asset': {'data': {'degree': {'name': 'Financial Technology',\n",
       "     'level': 'Master',\n",
       "     'description': 'Masters degree in fintech',\n",
       "     'id': 'MFinTech'}}},\n",
       "  'version': '2.0',\n",
       "  'id': 'baa3940690f1f7f6cba3242c33034865e6a9d56caf81c8bf1966869ca4eb7a06'}]"
      ]
     },
     "execution_count": 16,
     "metadata": {},
     "output_type": "execute_result"
    }
   ],
   "source": [
    "BDB.transactions.get(asset_id=fintech_id)"
   ]
  },
  {
   "cell_type": "code",
   "execution_count": 17,
   "metadata": {},
   "outputs": [],
   "source": [
    "def update_degree_course_list(asset_id, admin, course_id):\n",
    "    tx, tx_id = get_last_transaction(asset_id)\n",
    "    transaction_input = build_input(tx, tx_id)\n",
    "    metadata = update_course_list(tx, course_id)\n",
    "    transaction = prepare_update_transaction(asset_id, transaction_input, admin, metadata)\n",
    "    signed_transaction = fulfill_transaction(transaction, admin.private_key)\n",
    "    receipt = send_transaction(signed_transaction)\n",
    "    if signed_transaction == receipt:\n",
    "        return receipt.get('id')\n",
    "\n",
    "def get_last_transaction(asset_id):\n",
    "    transaction = BDB.transactions.get(asset_id=asset_id)[-1]\n",
    "    transaction_id = transaction.get('id')\n",
    "    return (transaction, transaction_id)\n",
    "\n",
    "def build_input(tx, tx_id):\n",
    "    output = tx.get('outputs')[-1]\n",
    "    tx_input = {\n",
    "        'fulfillment': output.get('condition').get('details'),\n",
    "        'fulfills': {\n",
    "            'output_index': 0,\n",
    "            'transaction_id': tx_id,\n",
    "        },\n",
    "        'owners_before': output.get('public_keys'),\n",
    "    }\n",
    "    return tx_input\n",
    "\n",
    "def update_course_list(tx, course_id):\n",
    "    metadata = tx.get('metadata')\n",
    "    metadata.get('courses').append(course_id)\n",
    "    return metadata\n",
    "\n",
    "def prepare_update_transaction(asset_id, tx_input, admin, metadata):\n",
    "    tx_transfer = BDB.transactions.prepare(\n",
    "        operation='TRANSFER',\n",
    "        inputs=tx_input,\n",
    "        asset={'id': asset_id},\n",
    "        recipients=admin.public_key,\n",
    "        metadata = metadata\n",
    "    )\n",
    "    return tx_transfer"
   ]
  },
  {
   "cell_type": "code",
   "execution_count": 18,
   "metadata": {},
   "outputs": [
    {
     "data": {
      "text/plain": [
       "'5fc658373ad3c85a414f7e2af77581bfee404cb7c7ab7b83d8fef207b8eec5a6'"
      ]
     },
     "execution_count": 18,
     "metadata": {},
     "output_type": "execute_result"
    }
   ],
   "source": [
    "update_degree_course_list(fintech_id,\n",
    "                          uct, \n",
    "                          econometrics_id)"
   ]
  },
  {
   "cell_type": "code",
   "execution_count": 19,
   "metadata": {},
   "outputs": [
    {
     "data": {
      "text/plain": [
       "[{'inputs': [{'owners_before': ['BNXiUjkhBvgZP52dcCJThLmWYzmNRY1RAemSvVs9qLuq'],\n",
       "    'fulfills': None,\n",
       "    'fulfillment': 'pGSAIJoYy8UQFqKAnSMIwrBbtPjeRPK0G1LOF188Et6AP1dkgUAPNXtg-9LqaCiUZzqP2e1v4NYcRJqPJQMqleBOXvmAn4qYem9bNUAMH2vNiHoW9NltzqRF_GtOKrA21o1bjPYA'}],\n",
       "  'outputs': [{'public_keys': ['BNXiUjkhBvgZP52dcCJThLmWYzmNRY1RAemSvVs9qLuq'],\n",
       "    'condition': {'details': {'type': 'ed25519-sha-256',\n",
       "      'public_key': 'BNXiUjkhBvgZP52dcCJThLmWYzmNRY1RAemSvVs9qLuq'},\n",
       "     'uri': 'ni:///sha-256;oItNXLeUuLpuje4csrpq-T67csHNOx9GSMB7H5aDAAs?fpt=ed25519-sha-256&cost=131072'},\n",
       "    'amount': '1'}],\n",
       "  'operation': 'CREATE',\n",
       "  'metadata': {'courses': []},\n",
       "  'asset': {'data': {'degree': {'name': 'Financial Technology',\n",
       "     'level': 'Master',\n",
       "     'description': 'Masters degree in fintech',\n",
       "     'id': 'MFinTech'}}},\n",
       "  'version': '2.0',\n",
       "  'id': 'baa3940690f1f7f6cba3242c33034865e6a9d56caf81c8bf1966869ca4eb7a06'},\n",
       " {'inputs': [{'owners_before': ['BNXiUjkhBvgZP52dcCJThLmWYzmNRY1RAemSvVs9qLuq'],\n",
       "    'fulfills': {'transaction_id': 'baa3940690f1f7f6cba3242c33034865e6a9d56caf81c8bf1966869ca4eb7a06',\n",
       "     'output_index': 0},\n",
       "    'fulfillment': 'pGSAIJoYy8UQFqKAnSMIwrBbtPjeRPK0G1LOF188Et6AP1dkgUB64fJE9t6cVFU27a3W9MEtm_KbBN1gmxvh5A8GyR7-gPWwG4i10Nkr-O8zHRZpdr9_tNRD88Rt_BDp-QZZ9pMO'}],\n",
       "  'outputs': [{'public_keys': ['BNXiUjkhBvgZP52dcCJThLmWYzmNRY1RAemSvVs9qLuq'],\n",
       "    'condition': {'details': {'type': 'ed25519-sha-256',\n",
       "      'public_key': 'BNXiUjkhBvgZP52dcCJThLmWYzmNRY1RAemSvVs9qLuq'},\n",
       "     'uri': 'ni:///sha-256;oItNXLeUuLpuje4csrpq-T67csHNOx9GSMB7H5aDAAs?fpt=ed25519-sha-256&cost=131072'},\n",
       "    'amount': '1'}],\n",
       "  'operation': 'TRANSFER',\n",
       "  'metadata': {'courses': ['5b05d72df95e4d22fc5856a039cd7d353b7b78c95428f5a448707ade102b17f3']},\n",
       "  'asset': {'id': 'baa3940690f1f7f6cba3242c33034865e6a9d56caf81c8bf1966869ca4eb7a06'},\n",
       "  'version': '2.0',\n",
       "  'id': '5fc658373ad3c85a414f7e2af77581bfee404cb7c7ab7b83d8fef207b8eec5a6'}]"
      ]
     },
     "execution_count": 19,
     "metadata": {},
     "output_type": "execute_result"
    }
   ],
   "source": [
    "BDB.transactions.get(asset_id=fintech_id)"
   ]
  },
  {
   "cell_type": "code",
   "execution_count": null,
   "metadata": {},
   "outputs": [],
   "source": [
    "update_degree_course_list(fintech_id,\n",
    "                          uct, \n",
    "                          statistics_id)"
   ]
  },
  {
   "cell_type": "code",
   "execution_count": null,
   "metadata": {},
   "outputs": [],
   "source": [
    "BDB.transactions.get(asset_id=fintech_id)"
   ]
  },
  {
   "cell_type": "code",
   "execution_count": null,
   "metadata": {},
   "outputs": [],
   "source": [
    "def get_all_courses():\n",
    "    return BDB.assets.get(search='course')\n",
    "\n",
    "def get_all_degrees():\n",
    "    return BDB.assets.get(search='degree')"
   ]
  },
  {
   "cell_type": "code",
   "execution_count": null,
   "metadata": {},
   "outputs": [],
   "source": [
    "get_all_courses()"
   ]
  },
  {
   "cell_type": "code",
   "execution_count": null,
   "metadata": {},
   "outputs": [],
   "source": [
    "get_all_degrees()"
   ]
  },
  {
   "cell_type": "code",
   "execution_count": null,
   "metadata": {},
   "outputs": [],
   "source": [
    "def create_mark(data, metadata, admin):\n",
    "    check_mark_data(data)\n",
    "    check_mark_metadata(metadata)\n",
    "    transaction_id = process_creation(data, metadata, admin)\n",
    "    return transaction_id\n",
    "    \n",
    "def check_mark_data(data):\n",
    "    return True\n",
    "\n",
    "def check_mark_metadata(metadata):\n",
    "    return True"
   ]
  },
  {
   "cell_type": "code",
   "execution_count": null,
   "metadata": {},
   "outputs": [],
   "source": [
    "mark = {\n",
    "    'data': {\n",
    "        'mark': {\n",
    "            'student': '0x03',\n",
    "            'course': econometrics_id,\n",
    "            'degree': fintech_id,\n",
    "        }\n",
    "    }\n",
    "}\n",
    "\n",
    "metadata = {\n",
    "    'mark': 85\n",
    "}"
   ]
  },
  {
   "cell_type": "code",
   "execution_count": null,
   "metadata": {},
   "outputs": [],
   "source": [
    "mark_id = create_mark(mark, metadata, uct)"
   ]
  },
  {
   "cell_type": "code",
   "execution_count": null,
   "metadata": {},
   "outputs": [],
   "source": [
    "def get_marks_by_address(address):\n",
    "    marks = BDB.assets.get(search=address)\n",
    "    for mark in marks:\n",
    "        course_id = mark.get('data').get('mark').get('course')\n",
    "        course_transaction = BDB.transactions.get(asset_id=course_id)\n",
    "        course = course_transaction[0].get('asset').get('data').get('course').get('name')\n",
    "        mark_id =  mark.get('id')\n",
    "        mark_transaction = BDB.transactions.get(asset_id=mark_id)\n",
    "        mark = mark_transaction[-1].get('metadata').get('mark')\n",
    "        print(course, mark)"
   ]
  },
  {
   "cell_type": "code",
   "execution_count": null,
   "metadata": {},
   "outputs": [],
   "source": [
    "get_marks_by_address('0x03')"
   ]
  },
  {
   "cell_type": "code",
   "execution_count": null,
   "metadata": {},
   "outputs": [],
   "source": []
  }
 ],
 "metadata": {
  "kernelspec": {
   "display_name": "Python 3",
   "language": "python",
   "name": "python3"
  },
  "language_info": {
   "codemirror_mode": {
    "name": "ipython",
    "version": 3
   },
   "file_extension": ".py",
   "mimetype": "text/x-python",
   "name": "python",
   "nbconvert_exporter": "python",
   "pygments_lexer": "ipython3",
   "version": "3.6.5"
  }
 },
 "nbformat": 4,
 "nbformat_minor": 2
}
